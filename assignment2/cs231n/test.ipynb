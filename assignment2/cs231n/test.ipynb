{
 "cells": [
  {
   "cell_type": "code",
   "execution_count": 3,
   "metadata": {},
   "outputs": [],
   "source": [
    "import numpy as np"
   ]
  },
  {
   "cell_type": "code",
   "execution_count": 15,
   "metadata": {},
   "outputs": [
    {
     "name": "stdout",
     "output_type": "stream",
     "text": [
      "240\n",
      "(240,)\n",
      "......\n",
      "(2, 4, 5, 6)\n"
     ]
    }
   ],
   "source": [
    "num_inputs = 2\n",
    "input_shape = (4, 5, 6)\n",
    "output_dim = 3\n",
    "\n",
    "input_size = num_inputs * np.prod(input_shape)\n",
    "print(input_size)\n",
    "x = np.linspace(-0.1, 0.5, num=input_size)\n",
    "print(x.shape)\n",
    "print(\"......\")\n",
    "x = x.reshape(num_inputs, *input_shape)\n",
    "print(x.shape)\n",
    "#print(x)"
   ]
  },
  {
   "cell_type": "code",
   "execution_count": 44,
   "metadata": {},
   "outputs": [
    {
     "name": "stdout",
     "output_type": "stream",
     "text": [
      "[[[ 0.41794341  1.39710028 -1.78590431]\n",
      "  [-0.70882773 -0.07472532 -0.77501677]]\n",
      "\n",
      " [[-0.1497979   1.86172902 -1.4255293 ]\n",
      "  [-0.3763567  -0.34227539  0.29490764]]\n",
      "\n",
      " [[-0.83732373  0.95218767  1.32931659]\n",
      "  [ 0.52465245 -0.14809998  0.88953195]]\n",
      "\n",
      " [[ 0.12444653  0.99109251  0.03514666]\n",
      "  [ 0.26207083  0.14320173  0.90101716]]\n",
      "\n",
      " [[ 0.23185863 -0.79725793  0.12001014]\n",
      "  [-0.65679608  0.26917456  0.333667  ]]\n",
      "\n",
      " [[ 0.27423503  0.76215717 -0.69550058]\n",
      "  [ 0.29214712 -0.38489942  0.1228747 ]]\n",
      "\n",
      " [[-1.42904497  0.70286283 -0.85850947]\n",
      "  [-1.14042979 -1.58535997 -0.01530138]]\n",
      "\n",
      " [[-0.32156083  0.56834936 -0.19961722]\n",
      "  [ 1.27286625  1.27292534  1.58102968]]\n",
      "\n",
      " [[-1.75626715  0.9217743  -0.6753054 ]\n",
      "  [-1.43443616  0.47021125  0.03196734]]\n",
      "\n",
      " [[ 0.04448574  0.47824879 -2.51335181]\n",
      "  [-1.15740245 -0.70470413 -1.04978879]]]\n",
      "[[-1.90795589  0.49258765  0.83736166 -1.4288134  -0.18982427]\n",
      " [-1.14094943 -2.12570755 -0.41354791  0.44148975  0.16411113]\n",
      " [-0.65505065 -0.30212765 -0.25704466 -0.12841368  0.26338593]\n",
      " [ 0.1672181  -0.30871951 -1.26754462 -0.22319022 -0.82993433]\n",
      " [-1.11271826 -0.44613095 -0.40001719  0.36343905  0.94992777]\n",
      " [-0.32379447  0.27031704 -0.63381148 -2.71484268  0.65576139]]\n",
      "[-1.17004858  0.0598685  -1.64182729 -0.28069634 -0.67946972]\n",
      "[[-1.80480094  0.53770564 -0.12171369 -1.04250949  0.13828792]\n",
      " [-0.22557183 -1.1928829  -0.68320696  0.19909408  0.03070661]\n",
      " [-0.44972639  0.14447532 -0.35229594  0.4882136  -0.4347099 ]\n",
      " [-0.28692265 -0.84338097 -0.10827394  0.85434757 -0.90377338]\n",
      " [-1.0525584  -0.30409794  0.18083726 -0.4125417   1.22913948]\n",
      " [-0.97791748 -0.63978524 -0.00880963  0.36213294  0.35148162]\n",
      " [-1.20064035 -0.84272962  1.61832501 -2.39079478  0.88256212]\n",
      " [-1.12082008  0.12416778 -2.43434598 -1.62701704 -1.10613945]\n",
      " [ 2.00862337  0.91447992 -0.86943856  0.13741017 -0.72261465]\n",
      " [-0.6755518  -0.04084145 -1.15755894 -0.67498124  0.44252644]]\n"
     ]
    }
   ],
   "source": [
    "np.random.seed(231)\n",
    "x = np.random.randn(10, 2, 3)\n",
    "w = np.random.randn(6, 5)\n",
    "b = np.random.randn(5)\n",
    "dout = np.random.randn(10, 5)\n",
    "\n",
    "print(x)\n",
    "print(w)\n",
    "print(b)\n",
    "print(dout)"
   ]
  },
  {
   "cell_type": "code",
   "execution_count": 45,
   "metadata": {},
   "outputs": [
    {
     "name": "stdout",
     "output_type": "stream",
     "text": [
      "(10, 2, 3)\n",
      "(10, 6)\n",
      "(10, 2, 3)\n"
     ]
    }
   ],
   "source": [
    "np.random.seed(231)\n",
    "x1 = np.random.randn(10, 2, 3)\n",
    "\n",
    "s = x1.shape\n",
    "print(x1.shape)\n",
    "x1 = np.reshape(x1, (x1.shape[0], -1))\n",
    "print(x1.shape)\n",
    "x1 = np.reshape(x1, s)\n",
    "print(x1.shape)"
   ]
  },
  {
   "cell_type": "code",
   "execution_count": 57,
   "metadata": {},
   "outputs": [
    {
     "name": "stdout",
     "output_type": "stream",
     "text": [
      "[[-1.80480094  0.53770564 -0.12171369 -1.04250949  0.13828792]\n",
      " [-0.22557183 -1.1928829  -0.68320696  0.19909408  0.03070661]\n",
      " [-0.44972639  0.14447532 -0.35229594  0.4882136  -0.4347099 ]\n",
      " [-0.28692265 -0.84338097 -0.10827394  0.85434757 -0.90377338]\n",
      " [-1.0525584  -0.30409794  0.18083726 -0.4125417   1.22913948]\n",
      " [-0.97791748 -0.63978524 -0.00880963  0.36213294  0.35148162]\n",
      " [-1.20064035 -0.84272962  1.61832501 -2.39079478  0.88256212]\n",
      " [-1.12082008  0.12416778 -2.43434598 -1.62701704 -1.10613945]\n",
      " [ 2.00862337  0.91447992 -0.86943856  0.13741017 -0.72261465]\n",
      " [-0.6755518  -0.04084145 -1.15755894 -0.67498124  0.44252644]]\n",
      "(10, 5)\n",
      "[1 3 3 3 4 3 2 1 0 4]\n",
      "[array([1, 3, 3, 3, 4, 3, 2, 1, 0, 4], dtype=int64)]\n",
      "[1 3 3 3 4 3 2 1 0 4]\n",
      "[False False False False False False False False  True False]\n",
      "0.1\n"
     ]
    }
   ],
   "source": [
    "print(dout)  #(10,5)\n",
    "print(dout.shape) \n",
    "aa = np.argmax(dout, axis=0) # axis=0 reduce 10\n",
    "bb = np.argmax(dout, axis=1) # axis=1 reduce 5\n",
    "#print(aa)\n",
    "print(bb)\n",
    "\n",
    "#print(x)\n",
    "#print(x.shape)\n",
    "xx = np.argmax(x, axis=0) # axis=0 reduce 10\n",
    "yy = np.argmax(x, axis=1) # axis=1 reduce 2\n",
    "zz = np.argmax(x, axis=2) # axis=2 reduce 3\n",
    "#print(xx)\n",
    "#print(yy)\n",
    "#print(zz)\n",
    "\n",
    "y_pred = []\n",
    "y_pred.append(bb)\n",
    "print(y_pred)\n",
    "y_pred = np.hstack(y_pred)\n",
    "print(y_pred)\n",
    "y = np.zeros((10))\n",
    "print(y_pred == y)\n",
    "acc = np.mean(y_pred == y)\n",
    "print(acc)"
   ]
  },
  {
   "cell_type": "code",
   "execution_count": 59,
   "metadata": {},
   "outputs": [
    {
     "name": "stdout",
     "output_type": "stream",
     "text": [
      "[[-2.12570755 -0.41354791  0.44148975  0.16411113 -0.65505065]\n",
      " [-0.30212765 -0.25704466 -0.12841368  0.26338593  0.1672181 ]]\n"
     ]
    }
   ],
   "source": [
    "print(np.random.randn(2, 5))"
   ]
  },
  {
   "cell_type": "code",
   "execution_count": 66,
   "metadata": {},
   "outputs": [
    {
     "name": "stdout",
     "output_type": "stream",
     "text": [
      "W1\n"
     ]
    }
   ],
   "source": [
    "p = 'W'\n",
    "i = 1\n",
    "index = i\n",
    "str = f'W{index}'\n",
    "print(str)"
   ]
  },
  {
   "cell_type": "code",
   "execution_count": 5,
   "metadata": {},
   "outputs": [
    {
     "name": "stdout",
     "output_type": "stream",
     "text": [
      "[{'mode': 'train'}, {'mode': 'train'}, {'mode': 'train'}, {'mode': 'train'}, {'mode': 'train'}]\n",
      "{'mode': 'train'}\n",
      "{'mode': 'train'}\n"
     ]
    }
   ],
   "source": [
    "bn_params = []\n",
    "bn_params = [{'mode': 'train'} for i in range(5)]\n",
    "print(bn_params)\n",
    "print(bn_params[0])\n",
    "print(bn_params[1])"
   ]
  },
  {
   "cell_type": "code",
   "execution_count": 2,
   "metadata": {},
   "outputs": [
    {
     "name": "stdout",
     "output_type": "stream",
     "text": [
      "0\n",
      "0.0001\n",
      "1\n",
      "0.0001623776739188721\n",
      "2\n",
      "0.00026366508987303583\n",
      "3\n",
      "0.00042813323987193956\n",
      "4\n",
      "0.0006951927961775605\n",
      "5\n",
      "0.0011288378916846883\n",
      "6\n",
      "0.0018329807108324356\n",
      "7\n",
      "0.002976351441631319\n",
      "8\n",
      "0.004832930238571752\n",
      "9\n",
      "0.007847599703514606\n",
      "10\n",
      "0.012742749857031334\n",
      "11\n",
      "0.0206913808111479\n",
      "12\n",
      "0.03359818286283781\n",
      "13\n",
      "0.05455594781168514\n",
      "14\n",
      "0.08858667904100823\n",
      "15\n",
      "0.14384498882876628\n",
      "16\n",
      "0.23357214690901212\n",
      "17\n",
      "0.3792690190732246\n",
      "18\n",
      "0.615848211066026\n",
      "19\n",
      "1.0\n"
     ]
    }
   ],
   "source": [
    "weight_scales = np.logspace(-4, 0, num=20)\n",
    "for i, weight_scale in enumerate(weight_scales):\n",
    "    print(i)\n",
    "    print(weight_scale)"
   ]
  },
  {
   "cell_type": "code",
   "execution_count": 4,
   "metadata": {},
   "outputs": [],
   "source": [
    "a = np.array([1,2,3,4,5])"
   ]
  },
  {
   "cell_type": "code",
   "execution_count": 5,
   "metadata": {},
   "outputs": [
    {
     "data": {
      "text/plain": [
       "(5,)"
      ]
     },
     "execution_count": 5,
     "metadata": {},
     "output_type": "execute_result"
    }
   ],
   "source": [
    "a.shape"
   ]
  },
  {
   "cell_type": "code",
   "execution_count": 6,
   "metadata": {},
   "outputs": [
    {
     "data": {
      "text/plain": [
       "array([1, 2, 3, 4, 5])"
      ]
     },
     "execution_count": 6,
     "metadata": {},
     "output_type": "execute_result"
    }
   ],
   "source": [
    "a[:]"
   ]
  },
  {
   "cell_type": "code",
   "execution_count": 8,
   "metadata": {},
   "outputs": [
    {
     "data": {
      "text/plain": [
       "(5, 1)"
      ]
     },
     "execution_count": 8,
     "metadata": {},
     "output_type": "execute_result"
    }
   ],
   "source": [
    "a[:, None].shape"
   ]
  },
  {
   "cell_type": "code",
   "execution_count": 10,
   "metadata": {},
   "outputs": [
    {
     "data": {
      "text/plain": [
       "(1, 5)"
      ]
     },
     "execution_count": 10,
     "metadata": {},
     "output_type": "execute_result"
    }
   ],
   "source": [
    "a[None, :].shape"
   ]
  },
  {
   "cell_type": "code",
   "execution_count": 12,
   "metadata": {},
   "outputs": [
    {
     "data": {
      "text/plain": [
       "(1, 5)"
      ]
     },
     "execution_count": 12,
     "metadata": {},
     "output_type": "execute_result"
    }
   ],
   "source": [
    "a.reshape(1, -1).shape"
   ]
  },
  {
   "cell_type": "code",
   "execution_count": 13,
   "metadata": {},
   "outputs": [
    {
     "data": {
      "text/plain": [
       "(5, 1)"
      ]
     },
     "execution_count": 13,
     "metadata": {},
     "output_type": "execute_result"
    }
   ],
   "source": [
    "a.reshape(-1, 1).shape"
   ]
  },
  {
   "cell_type": "code",
   "execution_count": 19,
   "metadata": {},
   "outputs": [],
   "source": [
    "b = np.ones((3, 4, 1))"
   ]
  },
  {
   "cell_type": "code",
   "execution_count": 23,
   "metadata": {},
   "outputs": [
    {
     "data": {
      "text/plain": [
       "(3, 4, 1)"
      ]
     },
     "execution_count": 23,
     "metadata": {},
     "output_type": "execute_result"
    }
   ],
   "source": [
    "b.shape"
   ]
  },
  {
   "cell_type": "code",
   "execution_count": 21,
   "metadata": {},
   "outputs": [
    {
     "data": {
      "text/plain": [
       "(3, 4)"
      ]
     },
     "execution_count": 21,
     "metadata": {},
     "output_type": "execute_result"
    }
   ],
   "source": [
    "b.squeeze().shape"
   ]
  },
  {
   "cell_type": "code",
   "execution_count": null,
   "metadata": {},
   "outputs": [],
   "source": []
  }
 ],
 "metadata": {
  "kernelspec": {
   "display_name": "Python 3",
   "language": "python",
   "name": "python3"
  },
  "language_info": {
   "codemirror_mode": {
    "name": "ipython",
    "version": 3
   },
   "file_extension": ".py",
   "mimetype": "text/x-python",
   "name": "python",
   "nbconvert_exporter": "python",
   "pygments_lexer": "ipython3",
   "version": "3.7.4"
  }
 },
 "nbformat": 4,
 "nbformat_minor": 2
}
